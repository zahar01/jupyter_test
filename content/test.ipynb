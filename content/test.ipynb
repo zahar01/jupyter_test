{
 "cells": [
  {
   "cell_type": "code",
   "execution_count": 11,
   "metadata": {},
   "outputs": [],
   "source": [
    "from ipywidgets import FileUpload\n",
    "from io import BytesIO\n",
    "import pandas as pd\n",
    "import ipywidgets as widgets\n",
    "# import ipysheet\n",
    "from IPython.display import display\n"
   ]
  },
  {
   "cell_type": "code",
   "execution_count": 16,
   "metadata": {},
   "outputs": [
    {
     "data": {
      "application/vnd.jupyter.widget-view+json": {
       "model_id": "c6a50cc90dd84fa0ac430a8b5b13ef43",
       "version_major": 2,
       "version_minor": 0
      },
      "text/plain": [
       "FileUpload(value={}, accept='*.xlsx', description='Upload')"
      ]
     },
     "metadata": {},
     "output_type": "display_data"
    }
   ],
   "source": [
    "# upload=FileUpload(accept='*.xlsx', multiple=False)\n",
    "# upload"
   ]
  },
  {
   "cell_type": "code",
   "execution_count": 40,
   "metadata": {},
   "outputs": [
    {
     "data": {
      "application/vnd.jupyter.widget-view+json": {
       "model_id": "b9b18faa63324b4e9f28d16bf2f2ccc6",
       "version_major": 2,
       "version_minor": 0
      },
      "text/plain": [
       "FileUpload(value={}, accept='*.xlsx', description='Upload')"
      ]
     },
     "metadata": {},
     "output_type": "display_data"
    },
    {
     "data": {
      "text/html": [
       "<div>\n",
       "<style scoped>\n",
       "    .dataframe tbody tr th:only-of-type {\n",
       "        vertical-align: middle;\n",
       "    }\n",
       "\n",
       "    .dataframe tbody tr th {\n",
       "        vertical-align: top;\n",
       "    }\n",
       "\n",
       "    .dataframe thead th {\n",
       "        text-align: right;\n",
       "    }\n",
       "</style>\n",
       "<table border=\"1\" class=\"dataframe\">\n",
       "  <thead>\n",
       "    <tr style=\"text-align: right;\">\n",
       "      <th></th>\n",
       "      <th>name</th>\n",
       "    </tr>\n",
       "  </thead>\n",
       "  <tbody>\n",
       "    <tr>\n",
       "      <th>0</th>\n",
       "      <td>zakhar</td>\n",
       "    </tr>\n",
       "    <tr>\n",
       "      <th>1</th>\n",
       "      <td>zaha</td>\n",
       "    </tr>\n",
       "    <tr>\n",
       "      <th>2</th>\n",
       "      <td>zahar</td>\n",
       "    </tr>\n",
       "    <tr>\n",
       "      <th>3</th>\n",
       "      <td>sahar</td>\n",
       "    </tr>\n",
       "    <tr>\n",
       "      <th>4</th>\n",
       "      <td>jafar</td>\n",
       "    </tr>\n",
       "    <tr>\n",
       "      <th>5</th>\n",
       "      <td>azazel</td>\n",
       "    </tr>\n",
       "    <tr>\n",
       "      <th>6</th>\n",
       "      <td>zu</td>\n",
       "    </tr>\n",
       "  </tbody>\n",
       "</table>\n",
       "</div>"
      ],
      "text/plain": [
       "     name\n",
       "0  zakhar\n",
       "1    zaha\n",
       "2   zahar\n",
       "3   sahar\n",
       "4   jafar\n",
       "5  azazel\n",
       "6      zu"
      ]
     },
     "metadata": {},
     "output_type": "display_data"
    }
   ],
   "source": [
    "# def handle_upload(change): \n",
    "#         global upload\n",
    "#         my_data = BytesIO(upload.data[0])\n",
    "#         my_pandas_dataframe = pd.read_excel(my_data)\n",
    "        \n",
    "#         display(my_pandas_dataframe)\n",
    "\n",
    "# button = widgets.Button(description=\"accept\")\n",
    "# upload=FileUpload(accept='*.xlsx', multiple=False)\n",
    "\n",
    "# upload.observe(handle_upload, names='value')\n",
    "\n",
    "# upload"
   ]
  },
  {
   "cell_type": "code",
   "execution_count": 35,
   "metadata": {},
   "outputs": [],
   "source": [
    "# def handle_upload(change): \n",
    "#         global upload\n",
    "#         my_data = BytesIO(next(iter(upload.value))['content'])\n",
    "#         my_pandas_dataframe = pd.read_excel(my_data)\n",
    "        \n",
    "#         return ipysheet.pandas_loader.from_dataframe(d)"
   ]
  },
  {
   "cell_type": "code",
   "execution_count": 7,
   "metadata": {},
   "outputs": [],
   "source": [
    "# button = widgets.Button(description=\"accept\")\n",
    "# upload=FileUpload(accept='*.xlsx', multiple=False)\n",
    "\n",
    "# display(upload)\n",
    "\n",
    "# upload.observe(handle_upload, names='data')"
   ]
  },
  {
   "cell_type": "code",
   "execution_count": 74,
   "metadata": {},
   "outputs": [],
   "source": [
    "# widgets.interact(handle_upload, upload=FileUpload(accept='*.xlsx', multiple=False))"
   ]
  },
  {
   "cell_type": "code",
   "execution_count": 1,
   "metadata": {},
   "outputs": [
    {
     "ename": "NameError",
     "evalue": "name 'FileUpload' is not defined",
     "output_type": "error",
     "traceback": [
      "\u001b[1;31m---------------------------------------------------------------------------\u001b[0m",
      "\u001b[1;31mNameError\u001b[0m                                 Traceback (most recent call last)",
      "Cell \u001b[1;32mIn[1], line 1\u001b[0m\n\u001b[1;32m----> 1\u001b[0m upload_button \u001b[38;5;241m=\u001b[39m FileUpload(description\u001b[38;5;241m=\u001b[39m\u001b[38;5;124m'\u001b[39m\u001b[38;5;124mUpload Excel File\u001b[39m\u001b[38;5;124m'\u001b[39m, accept\u001b[38;5;241m=\u001b[39m\u001b[38;5;124m'\u001b[39m\u001b[38;5;124m.xlsx\u001b[39m\u001b[38;5;124m'\u001b[39m)\n\u001b[0;32m      3\u001b[0m \u001b[38;5;66;03m# Display the button widget\u001b[39;00m\n\u001b[0;32m      4\u001b[0m display(upload_button)\n",
      "\u001b[1;31mNameError\u001b[0m: name 'FileUpload' is not defined"
     ]
    }
   ],
   "source": [
    "upload_button = FileUpload(description='Upload Excel File', accept='.xlsx')\n",
    "\n",
    "# Display the button widget\n",
    "display(upload_button)\n",
    "\n",
    "# Function to handle the file upload and display DataFrame\n",
    "def handle_upload(change):\n",
    "    uploaded_filename = next(iter(upload_button.value))\n",
    "    content = upload_button.value[uploaded_filename]['content']\n",
    "    df = pd.read_excel(BytesIO(content))\n",
    "    display(df)\n",
    "\n",
    "# Link the button click event to the handle_upload function\n",
    "upload_button.observe(handle_upload, names='value')\n"
   ]
  }
 ],
 "metadata": {
  "kernelspec": {
   "display_name": "base",
   "language": "python",
   "name": "python3"
  },
  "language_info": {
   "codemirror_mode": {
    "name": "ipython",
    "version": 3
   },
   "file_extension": ".py",
   "mimetype": "text/x-python",
   "name": "python",
   "nbconvert_exporter": "python",
   "pygments_lexer": "ipython3",
   "version": "3.12.4"
  }
 },
 "nbformat": 4,
 "nbformat_minor": 2
}
