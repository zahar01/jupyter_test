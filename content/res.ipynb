{
 "cells": [
  {
   "cell_type": "code",
   "execution_count": 1,
   "metadata": {},
   "outputs": [],
   "source": [
    "from ipywidgets import FileUpload\n",
    "from io import BytesIO\n",
    "import pandas as pd\n",
    "import ipywidgets as widgets\n",
    "from IPython.display import display\n",
    "import qgrid"
   ]
  },
  {
   "cell_type": "code",
   "execution_count": 3,
   "metadata": {},
   "outputs": [
    {
     "data": {
      "application/vnd.jupyter.widget-view+json": {
       "model_id": "4e76f426931f46dd8ff1a5d8026b6408",
       "version_major": 2,
       "version_minor": 0
      },
      "text/plain": [
       "FileUpload(value={}, accept='*.xlsx', description='Upload')"
      ]
     },
     "metadata": {},
     "output_type": "display_data"
    }
   ],
   "source": [
    "def handle_upload(change): \n",
    "        global upload\n",
    "        my_data = BytesIO(upload.data[0])\n",
    "        my_pandas_dataframe = pd.read_excel(my_data)\n",
    "        \n",
    "        display(my_pandas_dataframe)\n",
    "\n",
    "# button = widgets.Button(description=\"accept\")\n",
    "upload=FileUpload(accept='*.xlsx', multiple=False)\n",
    "\n",
    "upload.observe(handle_upload, names='value')\n",
    "\n",
    "upload"
   ]
  },
  {
   "cell_type": "code",
   "execution_count": null,
   "metadata": {},
   "outputs": [
    {
     "ename": "",
     "evalue": "",
     "output_type": "error",
     "traceback": [
      "\u001b[1;31mFailed to start the Kernel. \n",
      "\u001b[1;31mAssertion failed: ���� �������� ������� ��� ��� ���������� ��������.\n",
      "\u001b[1;31m (C:\\b\\abs_4cyru7_wp3\\croot\\zeromq_1705601895956\\work\\src\\thread.cpp:57). \n",
      "\u001b[1;31mView Jupyter <a href='command:jupyter.viewOutput'>log</a> for further details."
     ]
    }
   ],
   "source": [
    "# xlsx =pd.ExcelFile(my_data)\n",
    "# sheet_to_df_map = {}\n",
    "# for sheet_name in xlsx.sheet_names:\n",
    "#         sheet_to_df_map[sheet_name] = xlsx.parse(sheet_name)\n",
    "\n",
    "# print(sheet_to_df_map, sep=\"\\n\")"
   ]
  }
 ],
 "metadata": {
  "kernelspec": {
   "display_name": "base",
   "language": "python",
   "name": "python3"
  },
  "language_info": {
   "codemirror_mode": {
    "name": "ipython",
    "version": 3
   },
   "file_extension": ".py",
   "mimetype": "text/x-python",
   "name": "python",
   "nbconvert_exporter": "python",
   "pygments_lexer": "ipython3",
   "version": "3.12.4"
  }
 },
 "nbformat": 4,
 "nbformat_minor": 2
}
